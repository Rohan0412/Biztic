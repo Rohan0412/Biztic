{
 "cells": [
  {
   "cell_type": "code",
   "execution_count": null,
   "id": "b59fb7c4",
   "metadata": {},
   "outputs": [],
   "source": [
    "import requests\n",
    "import urllib.request\n",
    "import time\n",
    "from bs4 import BeautifulSoup"
   ]
  },
  {
   "cell_type": "code",
   "execution_count": 1,
   "id": "cd07a6a4",
   "metadata": {},
   "outputs": [],
   "source": [
    "#Pointing to url\n",
    "url = 'https://www.ndtv.com/'"
   ]
  },
  {
   "cell_type": "code",
   "execution_count": 2,
   "id": "4cbb896b",
   "metadata": {},
   "outputs": [
    {
     "ename": "NameError",
     "evalue": "name 'requests' is not defined",
     "output_type": "error",
     "traceback": [
      "\u001b[1;31m---------------------------------------------------------------------------\u001b[0m",
      "\u001b[1;31mNameError\u001b[0m                                 Traceback (most recent call last)",
      "Cell \u001b[1;32mIn[2], line 1\u001b[0m\n\u001b[1;32m----> 1\u001b[0m response \u001b[38;5;241m=\u001b[39m requests\u001b[38;5;241m.\u001b[39mget(url) \u001b[38;5;66;03m#Sending the request to the url\u001b[39;00m\n\u001b[0;32m      2\u001b[0m response\n",
      "\u001b[1;31mNameError\u001b[0m: name 'requests' is not defined"
     ]
    }
   ],
   "source": [
    "response = requests.get(url) #Sending the request to the url\n",
    "response  "
   ]
  },
  {
   "cell_type": "code",
   "execution_count": null,
   "id": "fc164b23",
   "metadata": {},
   "outputs": [],
   "source": [
    "soup = BeautifulSoup(response.text, \"html.parser\") #initializing parser\n",
    "soup "
   ]
  },
  {
   "cell_type": "code",
   "execution_count": null,
   "id": "8ec463cd",
   "metadata": {},
   "outputs": [],
   "source": [
    "content = soup.find('div', {\"class\": \"featured_cont\"})\n",
    "content"
   ]
  },
  {
   "cell_type": "code",
   "execution_count": null,
   "id": "dce35b6e",
   "metadata": {},
   "outputs": [],
   "source": [
    "html_code = \"\"\"<div class=\"featured_cont\">\n",
    "<span id=\"topstoriesdata\">\n",
    "<h2 class=\"section_head\"> <span><a href=\"https://www.ndtv.com/latest#pfrom=home-ndtv_mainnavgation#pfrom=home-ndtv_topstories\">Top Stories </a></span> </h2><ul><li data-tb-region-item=\"\"> <div class=\"thumbnail\"> <a href=\"https://www.ndtv.com/india-news/gautam-adani-says-ended-2023-in-position-of-unprecedented-strength-despite-challenges-4784918#pfrom=home-ndtv_topstories\"><img alt=\"Gautam Adani Says Ended 2023 In Position Of 'Strength' Despite Challenges\" border=\"0\" class=\"imgbrd\" src=\"https://c.ndtvimg.com/2023-12/iqos53q_gautam-adani_625x300_12_December_23.jpg?im=FaceCrop,algorithm=dnn,width=105,height=79&amp;w=105\" title=\"Gautam Adani Says Ended 2023 In Position Of 'Strength' Despite Challenges\"/></a> </div> <h2><a href=\"https://www.ndtv.com/india-news/gautam-adani-says-ended-2023-in-position-of-unprecedented-strength-despite-challenges-4784918#pfrom=home-ndtv_topstories\"></a> <a class=\"item-title\" data-tb-link=\"\" data-tb-title=\"\" href=\"https://www.ndtv.com/india-news/gautam-adani-says-ended-2023-in-position-of-unprecedented-strength-despite-challenges-4784918#pfrom=home-ndtv_topstories\" onclick=\"javascript:GAP_Event_tracking(&quot;top-stories&quot;,&quot;Gautam Adani Says Ended 2023 In Position Of 'Strength' Despite Challenges&quot;);\">Gautam Adani Says Ended 2023 In Position Of 'Strength' Despite Challenges</a></h2> </li><li data-tb-region-item=\"\"> <div class=\"thumbnail\"> <a href=\"https://www.ndtv.com/noida-news/noida-mall-woman-gang-rape-3-arrested-over-suspicion-of-gang-raping-woman-in-noida-mall-4782910#pfrom=home-ndtv_topstories\"><img alt=\"Woman Gang-Raped Near Noida Mall, 3 Arrested\" border=\"0\" class=\"imgbrd\" src=\"https://c.ndtvimg.com/2020-07/9k3e22n_noida-police-generic-_120x90_23_July_20.jpg?downsize=105:79&amp;w=105\" title=\"Woman Gang-Raped Near Noida Mall, 3 Arrested\"/></a> </div> <h2><a href=\"https://www.ndtv.com/noida-news/noida-mall-woman-gang-rape-3-arrested-over-suspicion-of-gang-raping-woman-in-noida-mall-4782910#pfrom=home-ndtv_topstories\"></a> <a class=\"item-title\" data-tb-link=\"\" data-tb-title=\"\" href=\"https://www.ndtv.com/noida-news/noida-mall-woman-gang-rape-3-arrested-over-suspicion-of-gang-raping-woman-in-noida-mall-4782910#pfrom=home-ndtv_topstories\" onclick='javascript:GAP_Event_tracking(\"top-stories\",\"Woman Gang-Raped Near Noida Mall, 3 Arrested\");'>Woman Gang-Raped Near Noida Mall, 3 Arrested</a></h2> </li><li data-tb-region-item=\"\"> <div class=\"thumbnail\"> <a href=\"https://www.ndtv.com/india-news/video-long-queues-at-maharashtra-petrol-pumps-amid-hit-and-run-protests-4785161#pfrom=home-ndtv_topstories\"><img alt=\"Queues At Maharashtra, Punjab Petrol Pumps As Protests Cause Panic Buying\" border=\"0\" class=\"imgbrd\" src=\"https://c.ndtvimg.com/2024-01/95eun5p_petrol-pumps_120x90_02_January_24.png?im=FitAndFill,algorithm=dnn,width=105,height=79&amp;w=105\" title=\"Queues At Maharashtra, Punjab Petrol Pumps As Protests Cause Panic Buying\"/></a> </div> <h2><a href=\"https://www.ndtv.com/india-news/video-long-queues-at-maharashtra-petrol-pumps-amid-hit-and-run-protests-4785161#pfrom=home-ndtv_topstories\"></a> <a class=\"item-title\" data-tb-link=\"\" data-tb-title=\"\" href=\"https://www.ndtv.com/india-news/video-long-queues-at-maharashtra-petrol-pumps-amid-hit-and-run-protests-4785161#pfrom=home-ndtv_topstories\" onclick='javascript:GAP_Event_tracking(\"top-stories\",\"Queues At Maharashtra, Punjab Petrol Pumps As Protests Cause Panic Buying\");'>Queues At Maharashtra, Punjab Petrol Pumps As Protests Cause Panic Buying</a></h2> </li><li data-tb-region-item=\"\"> <div class=\"thumbnail\"> <a href=\"https://www.ndtv.com/india-news/japan-earthquakes-jr-ntr-returns-from-japan-after-multiple-earthquakes-says-deeply-shocked-4784634#pfrom=home-ndtv_topstories\"><img alt=\"'Deeply Shocked': 'RRR' Star Jr NTR Returns From Earthquake-Hit Japan\" border=\"0\" class=\"imgbrd\" src=\"https://c.ndtvimg.com/2023-04/smnr0uro_jr-ntr_625x300_05_April_23.jpg?im=FaceCrop,algorithm=dnn,width=105,height=79&amp;w=105\" title=\"'Deeply Shocked': 'RRR' Star Jr NTR Returns From Earthquake-Hit Japan\"/></a> </div> <h2><a href=\"https://www.ndtv.com/india-news/japan-earthquakes-jr-ntr-returns-from-japan-after-multiple-earthquakes-says-deeply-shocked-4784634#pfrom=home-ndtv_topstories\"></a> <a class=\"item-title\" data-tb-link=\"\" data-tb-title=\"\" href=\"https://www.ndtv.com/india-news/japan-earthquakes-jr-ntr-returns-from-japan-after-multiple-earthquakes-says-deeply-shocked-4784634#pfrom=home-ndtv_topstories\" onclick=\"javascript:GAP_Event_tracking(&quot;top-stories&quot;,&quot;&quot;Deeply Shocked&quot;: 'RRR' Star Jr NTR Returns From Earthquake-Hit Japan&quot;);\">\"Deeply Shocked\": 'RRR' Star Jr NTR Returns From Earthquake-Hit Japan</a></h2> </li><li data-tb-region-item=\"\"> <div class=\"thumbnail\"> <a href=\"https://sports.ndtv.com/cricket/death-of-test-cricket-australia-great-warns-icc-bcci-over-irrelevant-legacy-4784776#pfrom=home-ndtv_topstories\"><img alt=\"'Death Of Test Cricket': Aus Great Warns ICC, BCCI On 'Irrelevant Legacy'\" border=\"0\" class=\"imgbrd\" src=\"https://c.ndtvimg.com/2018-10/b821l4d8_steve-waugh-afp-10-18_625x300_31_October_18.jpg?im=FeatureCrop,algorithm=dnn,width=105,height=79&amp;w=105\" title=\"'Death Of Test Cricket': Aus Great Warns ICC, BCCI On 'Irrelevant Legacy'\"/></a> </div> <h2><a href=\"https://sports.ndtv.com/cricket/death-of-test-cricket-australia-great-warns-icc-bcci-over-irrelevant-legacy-4784776#pfrom=home-ndtv_topstories\"></a> <a class=\"item-title\" data-tb-link=\"\" data-tb-title=\"\" href=\"https://sports.ndtv.com/cricket/death-of-test-cricket-australia-great-warns-icc-bcci-over-irrelevant-legacy-4784776#pfrom=home-ndtv_topstories\" onclick=\"javascript:GAP_Event_tracking(&quot;top-stories&quot;,&quot;&quot;Death Of Test Cricket&quot;: Aus Great Warns ICC, BCCI On 'Irrelevant Legacy'&quot;);\">\"Death Of Test Cricket\": Aus Great Warns ICC, BCCI On 'Irrelevant Legacy'</a></h2> </li><li data-tb-region-item=\"\"> <div class=\"thumbnail\"> <a href=\"https://www.ndtv.com/india-news/my-mind-games-are-working-s-jaishankars-dig-after-putin-meet-criticised-4785045#pfrom=home-ndtv_topstories\"><img alt=\"'My Mind Games Working': S Jaishankar's Dig After Putin Meet Criticised\" border=\"0\" class=\"imgbrd\" src=\"https://c.ndtvimg.com/2024-01/0i50d58g_s-jaishankar-ani_625x300_02_January_24.jpeg?im=FaceCrop,algorithm=dnn,width=105,height=79&amp;w=105\" title=\"'My Mind Games Working': S Jaishankar's Dig After Putin Meet Criticised\"/></a> </div> <h2><a href=\"https://www.ndtv.com/india-news/my-mind-games-are-working-s-jaishankars-dig-after-putin-meet-criticised-4785045#pfrom=home-ndtv_topstories\"></a> <a class=\"item-title\" data-tb-link=\"\" data-tb-title=\"\" href=\"https://www.ndtv.com/india-news/my-mind-games-are-working-s-jaishankars-dig-after-putin-meet-criticised-4785045#pfrom=home-ndtv_topstories\" onclick=\"javascript:GAP_Event_tracking(&quot;top-stories&quot;,&quot;&quot;My Mind Games Working&quot;: S Jaishankar's Dig After Putin Meet Criticised&quot;);\">\"My Mind Games Working\": S Jaishankar's Dig After Putin Meet Criticised</a></h2> </li><li data-tb-region-item=\"\"> <div class=\"thumbnail\"> <a href=\"https://www.ndtv.com/india-news/4-police-commandos-3-soldiers-injured-in-attack-by-militants-in-manipur-4785159#pfrom=home-ndtv_topstories\"><img alt=\"Security Forces Attacked By Militants In Manipur, 7 Injured: Sources\" border=\"0\" class=\"imgbrd\" src=\"https://c.ndtvimg.com/2024-01/9jakjbuo_manipur_625x300_02_January_24.jpg?im=FaceCrop,algorithm=dnn,width=105,height=79&amp;w=105\" title=\"Security Forces Attacked By Militants In Manipur, 7 Injured: Sources\"/></a> </div> <h2><a href=\"https://www.ndtv.com/india-news/4-police-commandos-3-soldiers-injured-in-attack-by-militants-in-manipur-4785159#pfrom=home-ndtv_topstories\"></a> <a class=\"item-title\" data-tb-link=\"\" data-tb-title=\"\" href=\"https://www.ndtv.com/india-news/4-police-commandos-3-soldiers-injured-in-attack-by-militants-in-manipur-4785159#pfrom=home-ndtv_topstories\" onclick='javascript:GAP_Event_tracking(\"top-stories\",\"Security Forces Attacked By Militants In Manipur, 7 Injured: Sources\");'>Security Forces Attacked By Militants In Manipur, 7 Injured: Sources</a></h2> </li><li data-tb-region-item=\"\"> <div class=\"thumbnail\"> <a href=\"https://www.ndtv.com/india-news/risks-of-donkey-flights-as-illegal-migration-rises-in-punjab-haryana-4782758#pfrom=home-ndtv_topstories\"><img alt=\"Risk Of 'Donkey Flights' As Illegal Migration Rises In Punjab, Haryana\" border=\"0\" class=\"imgbrd\" src=\"https://c.ndtvimg.com/2024-01/jn0gafag_donkey-flight_625x300_01_January_24.jpg?im=FaceCrop,algorithm=dnn,width=105,height=79&amp;w=105\" title=\"Risk Of 'Donkey Flights' As Illegal Migration Rises In Punjab, Haryana\"/></a> </div> <h2><a href=\"https://www.ndtv.com/india-news/risks-of-donkey-flights-as-illegal-migration-rises-in-punjab-haryana-4782758#pfrom=home-ndtv_topstories\"></a> <a class=\"item-title\" data-tb-link=\"\" data-tb-title=\"\" href=\"https://www.ndtv.com/india-news/risks-of-donkey-flights-as-illegal-migration-rises-in-punjab-haryana-4782758#pfrom=home-ndtv_topstories\" onclick='javascript:GAP_Event_tracking(\"top-stories\",\"Risk Of \"Donkey Flights\" As Illegal Migration Rises In Punjab, Haryana\");'>Risk Of \"Donkey Flights\" As Illegal Migration Rises In Punjab, Haryana</a></h2> </li><li data-tb-region-item=\"\"> <div class=\"thumbnail\"> <a href=\"https://sports.ndtv.com/cricket/pakistan-captain-shan-masood-urges-australian-government-for-country-wide-search-best-detectives-to-find-on-david-warners-stolen-cap-4785166#pfrom=home-ndtv_topstories\"><img alt=\"Pak Captain Wants 'Country-Wide Search, Detectives' To Find Warner's Cap\" border=\"0\" class=\"imgbrd\" src=\"https://c.ndtvimg.com/2024-01/ntmraq7g_masood-warner_625x300_02_January_24.jpg?im=FeatureCrop,algorithm=dnn,width=105,height=79&amp;w=105\" title=\"Pak Captain Wants 'Country-Wide Search, Detectives' To Find Warner's Cap\"/></a> </div> <h2><a href=\"https://sports.ndtv.com/cricket/pakistan-captain-shan-masood-urges-australian-government-for-country-wide-search-best-detectives-to-find-on-david-warners-stolen-cap-4785166#pfrom=home-ndtv_topstories\"></a> <a class=\"item-title\" data-tb-link=\"\" data-tb-title=\"\" href=\"https://sports.ndtv.com/cricket/pakistan-captain-shan-masood-urges-australian-government-for-country-wide-search-best-detectives-to-find-on-david-warners-stolen-cap-4785166#pfrom=home-ndtv_topstories\" onclick=\"javascript:GAP_Event_tracking(&quot;top-stories&quot;,&quot;Pak Captain Wants &quot;Country-Wide Search, Detectives&quot; To Find Warner's Cap&quot;);\">Pak Captain Wants \"Country-Wide Search, Detectives\" To Find Warner's Cap</a></h2> </li><li data-tb-region-item=\"\"> <div class=\"thumbnail\"> <a href=\"https://special.ndtv.com/save-a-life-donate-a-blanket-5/#pfrom=home-ndtv_topstories\"><img alt=\"Save A Life. Donate A Blanket\" border=\"0\" class=\"imgbrd\" src=\"https://c.ndtvimg.com/2023-01/tu9egs6o_blanket-drive-240_240x180_27_January_23.jpg?downsize=105:79&amp;w=105\" title=\"Save A Life. Donate A Blanket\"/></a> </div> <h2><a href=\"https://special.ndtv.com/save-a-life-donate-a-blanket-5/#pfrom=home-ndtv_topstories\"></a> <a class=\"item-title\" data-tb-link=\"\" data-tb-title=\"\" href=\"https://special.ndtv.com/save-a-life-donate-a-blanket-5/#pfrom=home-ndtv_topstories\" onclick='javascript:GAP_Event_tracking(\"top-stories\",\"Save A Life. Donate A Blanket\");'>Save A Life. Donate A Blanket</a></h2> </li></ul></span>\n",
    "</div>\"\"\""
   ]
  },
  {
   "cell_type": "code",
   "execution_count": null,
   "id": "24b9d919",
   "metadata": {},
   "outputs": [],
   "source": [
    "if soup is not None:\n",
    "   \n",
    "    product_containers = soup.find_all('div', class_='featured_cont')\n",
    "\n",
    "    for product in product_containers:\n",
    "        \n",
    "#         title = product.find('ul').find('li').text.strip()\n",
    "        product_url = product.find('ul').find('li').find('a')['href']\n",
    "\n",
    "        \n",
    "        print(f\"\\nURL: {product_url}\\n{'-'*30}\")\n",
    "\n",
    "else:\n",
    "    print(\"Error: 'soup' object is None.\")\n"
   ]
  }
 ],
 "metadata": {
  "kernelspec": {
   "display_name": "Python 3 (ipykernel)",
   "language": "python",
   "name": "python3"
  },
  "language_info": {
   "codemirror_mode": {
    "name": "ipython",
    "version": 3
   },
   "file_extension": ".py",
   "mimetype": "text/x-python",
   "name": "python",
   "nbconvert_exporter": "python",
   "pygments_lexer": "ipython3",
   "version": "3.11.5"
  }
 },
 "nbformat": 4,
 "nbformat_minor": 5
}
