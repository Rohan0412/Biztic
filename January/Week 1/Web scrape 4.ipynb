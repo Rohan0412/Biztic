{
 "cells": [
  {
   "cell_type": "code",
   "execution_count": null,
   "id": "20428439",
   "metadata": {},
   "outputs": [],
   "source": [
    "import requests\n",
    "import urllib.request\n",
    "import time\n",
    "from bs4 import BeautifulSoup\n",
    "from urllib.parse import urljoin\n",
    "import sqlite3\n",
    "import csv\n",
    "from lxml import etree"
   ]
  },
  {
   "cell_type": "code",
   "execution_count": null,
   "id": "7bf4f2d7",
   "metadata": {},
   "outputs": [],
   "source": [
    "soup = BeautifulSoup(response.text, \"html.parser\") #initializing parser\n",
    "#soup \n",
    "\n",
    "dom = etree.HTML(str(soup)) \n",
    "\n",
    "list_title = dom.xpath('//div[@class=\"featured_cont\"]/span/h2/span/a')\n",
    "\n",
    "\n",
    "for title in list_title:\n",
    "    print(title.text) \n",
    "    \n",
    "list_li = dom.xpath('//span[@id=\"topstoriesdata\"]/ul/li/h2/a[2]')\n",
    "\n",
    "\n",
    "for li in list_li:\n",
    "    print(li.text) "
   ]
  }
 ],
 "metadata": {
  "kernelspec": {
   "display_name": "Python 3 (ipykernel)",
   "language": "python",
   "name": "python3"
  },
  "language_info": {
   "codemirror_mode": {
    "name": "ipython",
    "version": 3
   },
   "file_extension": ".py",
   "mimetype": "text/x-python",
   "name": "python",
   "nbconvert_exporter": "python",
   "pygments_lexer": "ipython3",
   "version": "3.11.5"
  }
 },
 "nbformat": 4,
 "nbformat_minor": 5
}
