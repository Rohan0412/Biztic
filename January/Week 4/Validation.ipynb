{
 "cells": [
  {
   "cell_type": "code",
   "execution_count": 109,
   "id": "4898e880",
   "metadata": {},
   "outputs": [],
   "source": [
    "import pandas as pd\n",
    "import numpy as np\n",
    "import matplotlib.pyplot as plt\n",
    "import seaborn as sns\n",
    "import plotly.express as px\n",
    "\n",
    "import warnings\n",
    "warnings.filterwarnings('ignore')\n",
    "\n",
    "from flask import Flask\n",
    "from flask import request\n",
    "from flask import render_template\n",
    "import mysql.connector\n",
    "from mysql.connector import Error"
   ]
  },
  {
   "cell_type": "code",
   "execution_count": 110,
   "id": "85433100",
   "metadata": {},
   "outputs": [],
   "source": [
    "\n",
    "connection = mysql.connector.connect(host='winv-ahd-003',\n",
    "                                         database='vonly_data_feed_us_staging',\n",
    "                                         user='vonly-agent',\n",
    "                                         password='a714fded-311c-4215-8b8b-5df4086e264b')\n",
    "\n",
    "sql_select_Query = \"\"\"  \n",
    "SELECT  te.platform,te.portal,te.vonly_asset_id ,ts.title 'season_name', ts.num 'season_no',ts.portal_item_id 'season_portal_item_id', \n",
    "te.title 'episode_name',te.num 'episode_no' ,te.portal_item_id  'episode_portal_item_id' \n",
    "FROM tv_id_mappings tim\n",
    "INNER JOIN tv_ids te ON te.id=tim.episode_vonly_id\n",
    " INNER JOIN tv_ids ts ON ts.id=tim.season_vonly_id\n",
    "WHERE tim.season_vonly_id IN (\n",
    "SELECT id FROM tv_ids WHERE scope='tv_season' AND vonly_asset_id='720b5551-e62b-4e08-80f7-2067e7151673');\"\"\"   \n",
    "\n",
    "cursor = connection.cursor()        \n",
    "cursor.execute(sql_select_Query)\n",
    "records = cursor.fetchall()\n",
    "#for r in records:\n",
    " #   print(type(r[0]), r[7], r[6])\n",
    "\n"
   ]
  },
  {
   "cell_type": "code",
   "execution_count": 111,
   "id": "3d7e8776",
   "metadata": {},
   "outputs": [],
   "source": [
    "amazon = dict()\n",
    "vudu = dict()\n",
    "google = dict()\n",
    "apple = dict()\n",
    "itunes = dict()"
   ]
  },
  {
   "cell_type": "code",
   "execution_count": 112,
   "id": "7af9faf0",
   "metadata": {},
   "outputs": [],
   "source": [
    "for r in records:\n",
    "    if(r[0] == 'iTunes' ):       \n",
    "        itunes[r[7]] = r[6]\n",
    "    if(r[0] == 'VUDU' ):\n",
    "        vudu[r[7]] = r[6]\n",
    "    if(r[0] == 'Amazon Prime Video' ):\n",
    "        amazon[r[7]] = r[6]\n",
    "    if(r[0] == 'AppleTVApp' ):\n",
    "        apple[r[7]] = r[6]\n",
    "    if(r[0] == 'Google Play' ):\n",
    "        google[r[7]] = r[6]\n",
    "\n",
    "    "
   ]
  },
  {
   "cell_type": "code",
   "execution_count": 164,
   "id": "438a00d0",
   "metadata": {},
   "outputs": [
    {
     "name": "stdout",
     "output_type": "stream",
     "text": [
      "4\n",
      "10\n",
      "40\n",
      "Properly Mapped\n"
     ]
    }
   ],
   "source": [
    "x=0\n",
    "if(len(itunes) == len(vudu)):\n",
    "    x=x+1\n",
    "    \n",
    "if(len(apple) == len(vudu)):\n",
    "    x=x+1\n",
    "    \n",
    "if(len(amazon) == len(vudu)):\n",
    "    x=x+1\n",
    "    \n",
    "if(len(google) == len(vudu)):\n",
    "    x=x+1\n",
    "\n",
    "print(x)    \n",
    "y=0    \n",
    "z = len(vudu)\n",
    "print(z)\n",
    "for i in range(1,z+1):\n",
    "    if(itunes[str(i)] == apple[str(i)]):\n",
    "        y=y+1\n",
    "        \n",
    "for i in range(1,z+1):\n",
    "    if(itunes[str(i)] == amazon[str(i)]):\n",
    "        y=y+1\n",
    "        \n",
    "for i in range(1,z+1):\n",
    "    if(itunes[str(i)] == google[str(i)]):\n",
    "        y=y+1\n",
    "        \n",
    "for i in range(1,z+1):\n",
    "    if(vudu[str(i)].find(itunes[str(i)])!=-1):\n",
    "        y=y+1\n",
    "    \n",
    "if(x!=4):\n",
    "    print(\"Not Properly Mapped\")\n",
    "    \n",
    "print(y)\n",
    "\n",
    "if(x==4 and y==(4*z)):\n",
    "    print(\"Properly Mapped\")\n",
    "    \n",
    "\n"
   ]
  },
  {
   "cell_type": "code",
   "execution_count": 163,
   "id": "ba56abe9",
   "metadata": {},
   "outputs": [
    {
     "name": "stdout",
     "output_type": "stream",
     "text": [
      "The Sex Talk The Busch Family Brewed: The Sex Talk\n"
     ]
    }
   ],
   "source": [
    "print(itunes[str(2)], vudu[str(2)])"
   ]
  },
  {
   "cell_type": "code",
   "execution_count": null,
   "id": "3a4a8f15",
   "metadata": {},
   "outputs": [],
   "source": []
  }
 ],
 "metadata": {
  "kernelspec": {
   "display_name": "Python 3 (ipykernel)",
   "language": "python",
   "name": "python3"
  },
  "language_info": {
   "codemirror_mode": {
    "name": "ipython",
    "version": 3
   },
   "file_extension": ".py",
   "mimetype": "text/x-python",
   "name": "python",
   "nbconvert_exporter": "python",
   "pygments_lexer": "ipython3",
   "version": "3.11.5"
  }
 },
 "nbformat": 4,
 "nbformat_minor": 5
}
