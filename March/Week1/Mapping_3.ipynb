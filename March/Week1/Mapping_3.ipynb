{
 "cells": [
  {
   "cell_type": "code",
   "execution_count": 1,
   "id": "4aec49c4",
   "metadata": {},
   "outputs": [],
   "source": [
    "import pandas as pd\n",
    "import numpy as np\n",
    "import matplotlib.pyplot as plt\n",
    "import seaborn as sns\n",
    "import plotly.express as px\n",
    "import re\n",
    "\n",
    "import warnings\n",
    "warnings.filterwarnings('ignore')\n",
    "\n",
    "from flask import Flask\n",
    "from flask import request\n",
    "from flask import render_template\n",
    "import mysql.connector\n",
    "from mysql.connector import Error\n",
    "import string"
   ]
  },
  {
   "cell_type": "code",
   "execution_count": 2,
   "id": "b10a26c8",
   "metadata": {},
   "outputs": [],
   "source": [
    "# Connect to MYSQL Database\n",
    "connection = mysql.connector.connect(host='192.168.12.102',\n",
    "            database='vonly_data_feed_us_staging',\n",
    "            user='vonly-agent',\n",
    "            password='a714fded-311c-4215-8b8b-5df4086e264b')"
   ]
  },
  {
   "cell_type": "code",
   "execution_count": 3,
   "id": "390741ee",
   "metadata": {},
   "outputs": [],
   "source": [
    "# for id_1 in v_id:\n",
    "#     print(\"\\n\",\"Test Case: \",test_case)\n",
    "#     #print(id_1)\n",
    "#     test_case=test_case+1\n",
    "# 444bd446-fff0-479a-b535-859c9a75a796\n",
    "# 40f43d4d-206a-4430-8232-a7ea89b7fca0\n",
    "# First SQL Query\n",
    "query1 = \"\"\"\n",
    "SELECT ti.vonly_asset_id,ti.title season_name,ti.portal_item_id season_portal_item_id,ti.num season_no,\n",
    "                                        t.description,t.distributed_by,t.distributed_by_parent,t.produced_by,t.produced_by_parent,\n",
    "                                        t.us_theater_release_date,t.director,t.actors,t.writers,t.producers,\n",
    "                                        t.runtime,t.num season_no2,tie.title episode_name,tie.portal_item_id episode_portal_item_id, tie.num episode_no, ti.platform, \n",
    "                                        (select count(1) from tv_ids tii where tii.scope='tv_season' and tii.vonly_asset_id=ti.vonly_asset_id and tii.platform=ti.platform) va_count\n",
    "                                        FROM vonly_data_feed_us_staging.tv_ids ti\n",
    "                                        INNER JOIN sandbox.tvshows t ON ti.id=t.vonly_id AND ti.region=t.region \n",
    "                                        LEFT OUTER JOIN vonly_data_feed_us_staging.tv_id_mappings tim ON ti.id=tim.season_vonly_id\n",
    "                                        LEFT OUTER JOIN  vonly_data_feed_us_staging.tv_ids tie ON tim.episode_vonly_id=tie.id  AND tie.scope='tv_episode'\n",
    "                                         WHERE\n",
    "                                        ti.scope='tv_season' AND ti.platform NOT IN ('amazon movies & tv') AND  \n",
    "                                        ti.vonly_asset_id='444bd446-fff0-479a-b535-859c9a75a796'\n",
    " \n",
    "\"\"\"\n",
    "\n",
    "df1 = pd.read_sql_query(query1, connection)\n",
    "\n",
    "# Second SQL Query\n",
    "query2 = \"\"\"\n",
    "    SELECT ti.vonly_asset_id,ti.title season_name,ti.portal_item_id season_portal_item_id,ti.num season_no,\n",
    "                                        t.description,t.distributed_by,t.distributed_by_parent,t.produced_by,t.produced_by_parent,\n",
    "                                        t.us_theater_release_date,t.director,t.actors,t.writers,t.producers,\n",
    "                                        t.runtime,t.num season_no2,tie.title episode_name,tie.portal_item_id episode_portal_item_id, tie.num episode_no, ti.platform, \n",
    "                                        (select count(1) from tv_ids tii where tii.scope='tv_season' and tii.vonly_asset_id=ti.vonly_asset_id and tii.platform=ti.platform) va_count\n",
    "                                        FROM vonly_data_feed_us_staging.tv_ids ti\n",
    "                                        INNER JOIN sandbox.tvshows t ON ti.id=t.vonly_id AND ti.region=t.region \n",
    "                                        LEFT OUTER JOIN vonly_data_feed_us_staging.tv_id_mappings tim ON ti.id=tim.season_vonly_id\n",
    "                                        LEFT OUTER JOIN  vonly_data_feed_us_staging.tv_ids tie ON tim.episode_vonly_id=tie.id  AND tie.scope='tv_episode'\n",
    "                                         WHERE\n",
    "                                        ti.scope='tv_season' AND ti.platform NOT IN ('amazon movies & tv') AND  \n",
    "                                        ti.vonly_asset_id='40f43d4d-206a-4430-8232-a7ea89b7fca0'\n",
    "\"\"\"\n",
    "\n",
    "df2 = pd.read_sql_query(query2, connection)\n"
   ]
  },
  {
   "cell_type": "code",
   "execution_count": 4,
   "id": "d23789d6",
   "metadata": {},
   "outputs": [
    {
     "data": {
      "text/plain": [
       "Index(['vonly_asset_id', 'season_name', 'season_portal_item_id', 'season_no',\n",
       "       'description', 'distributed_by', 'distributed_by_parent', 'produced_by',\n",
       "       'produced_by_parent', 'us_theater_release_date', 'director', 'actors',\n",
       "       'writers', 'producers', 'runtime', 'season_no2', 'episode_name',\n",
       "       'episode_portal_item_id', 'episode_no', 'platform', 'va_count'],\n",
       "      dtype='object')"
      ]
     },
     "execution_count": 4,
     "metadata": {},
     "output_type": "execute_result"
    }
   ],
   "source": [
    "df1.columns"
   ]
  },
  {
   "cell_type": "code",
   "execution_count": 5,
   "id": "3eba4e2b",
   "metadata": {},
   "outputs": [
    {
     "data": {
      "text/plain": [
       "Index(['vonly_asset_id', 'season_name', 'season_portal_item_id', 'season_no',\n",
       "       'description', 'distributed_by', 'distributed_by_parent', 'produced_by',\n",
       "       'produced_by_parent', 'us_theater_release_date', 'director', 'actors',\n",
       "       'writers', 'producers', 'runtime', 'season_no2', 'episode_name',\n",
       "       'episode_portal_item_id', 'episode_no', 'platform', 'va_count'],\n",
       "      dtype='object')"
      ]
     },
     "execution_count": 5,
     "metadata": {},
     "output_type": "execute_result"
    }
   ],
   "source": [
    "df2.columns"
   ]
  },
  {
   "cell_type": "code",
   "execution_count": 6,
   "id": "e4e3c082",
   "metadata": {},
   "outputs": [
    {
     "data": {
      "text/html": [
       "<div>\n",
       "<style scoped>\n",
       "    .dataframe tbody tr th:only-of-type {\n",
       "        vertical-align: middle;\n",
       "    }\n",
       "\n",
       "    .dataframe tbody tr th {\n",
       "        vertical-align: top;\n",
       "    }\n",
       "\n",
       "    .dataframe thead th {\n",
       "        text-align: right;\n",
       "    }\n",
       "</style>\n",
       "<table border=\"1\" class=\"dataframe\">\n",
       "  <thead>\n",
       "    <tr style=\"text-align: right;\">\n",
       "      <th></th>\n",
       "      <th>vonly_asset_id</th>\n",
       "      <th>season_name</th>\n",
       "      <th>season_portal_item_id</th>\n",
       "      <th>season_no</th>\n",
       "      <th>description</th>\n",
       "      <th>distributed_by</th>\n",
       "      <th>distributed_by_parent</th>\n",
       "      <th>produced_by</th>\n",
       "      <th>produced_by_parent</th>\n",
       "      <th>us_theater_release_date</th>\n",
       "      <th>...</th>\n",
       "      <th>actors</th>\n",
       "      <th>writers</th>\n",
       "      <th>producers</th>\n",
       "      <th>runtime</th>\n",
       "      <th>season_no2</th>\n",
       "      <th>episode_name</th>\n",
       "      <th>episode_portal_item_id</th>\n",
       "      <th>episode_no</th>\n",
       "      <th>platform</th>\n",
       "      <th>va_count</th>\n",
       "    </tr>\n",
       "  </thead>\n",
       "  <tbody>\n",
       "    <tr>\n",
       "      <th>0</th>\n",
       "      <td>444bd446-fff0-479a-b535-859c9a75a796</td>\n",
       "      <td>Band of Brothers and The Pacific</td>\n",
       "      <td>582727129</td>\n",
       "      <td>1</td>\n",
       "      <td>None</td>\n",
       "      <td>HBO</td>\n",
       "      <td>HBO</td>\n",
       "      <td>Home Box Office, Inc</td>\n",
       "      <td>HBO</td>\n",
       "      <td>2012-12-17</td>\n",
       "      <td>...</td>\n",
       "      <td>None</td>\n",
       "      <td>None</td>\n",
       "      <td>None</td>\n",
       "      <td>None</td>\n",
       "      <td>None</td>\n",
       "      <td>Band of Brothers, Pt. 1: Currahee</td>\n",
       "      <td>583006787</td>\n",
       "      <td>1</td>\n",
       "      <td>iTunes</td>\n",
       "      <td>1</td>\n",
       "    </tr>\n",
       "    <tr>\n",
       "      <th>1</th>\n",
       "      <td>444bd446-fff0-479a-b535-859c9a75a796</td>\n",
       "      <td>Band of Brothers and The Pacific</td>\n",
       "      <td>582727129</td>\n",
       "      <td>1</td>\n",
       "      <td>None</td>\n",
       "      <td>HBO</td>\n",
       "      <td>HBO</td>\n",
       "      <td>Home Box Office, Inc</td>\n",
       "      <td>HBO</td>\n",
       "      <td>2012-12-17</td>\n",
       "      <td>...</td>\n",
       "      <td>None</td>\n",
       "      <td>None</td>\n",
       "      <td>None</td>\n",
       "      <td>None</td>\n",
       "      <td>None</td>\n",
       "      <td>Band of Brothers, Pt. 2: Day of Days</td>\n",
       "      <td>583007265</td>\n",
       "      <td>2</td>\n",
       "      <td>iTunes</td>\n",
       "      <td>1</td>\n",
       "    </tr>\n",
       "    <tr>\n",
       "      <th>2</th>\n",
       "      <td>444bd446-fff0-479a-b535-859c9a75a796</td>\n",
       "      <td>Band of Brothers and The Pacific</td>\n",
       "      <td>582727129</td>\n",
       "      <td>1</td>\n",
       "      <td>None</td>\n",
       "      <td>HBO</td>\n",
       "      <td>HBO</td>\n",
       "      <td>Home Box Office, Inc</td>\n",
       "      <td>HBO</td>\n",
       "      <td>2012-12-17</td>\n",
       "      <td>...</td>\n",
       "      <td>None</td>\n",
       "      <td>None</td>\n",
       "      <td>None</td>\n",
       "      <td>None</td>\n",
       "      <td>None</td>\n",
       "      <td>Band of Brothers, Pt. 3: Carentan</td>\n",
       "      <td>583007737</td>\n",
       "      <td>3</td>\n",
       "      <td>iTunes</td>\n",
       "      <td>1</td>\n",
       "    </tr>\n",
       "  </tbody>\n",
       "</table>\n",
       "<p>3 rows × 21 columns</p>\n",
       "</div>"
      ],
      "text/plain": [
       "                         vonly_asset_id                       season_name  \\\n",
       "0  444bd446-fff0-479a-b535-859c9a75a796  Band of Brothers and The Pacific   \n",
       "1  444bd446-fff0-479a-b535-859c9a75a796  Band of Brothers and The Pacific   \n",
       "2  444bd446-fff0-479a-b535-859c9a75a796  Band of Brothers and The Pacific   \n",
       "\n",
       "  season_portal_item_id season_no description distributed_by  \\\n",
       "0             582727129         1        None            HBO   \n",
       "1             582727129         1        None            HBO   \n",
       "2             582727129         1        None            HBO   \n",
       "\n",
       "  distributed_by_parent           produced_by produced_by_parent  \\\n",
       "0                   HBO  Home Box Office, Inc                HBO   \n",
       "1                   HBO  Home Box Office, Inc                HBO   \n",
       "2                   HBO  Home Box Office, Inc                HBO   \n",
       "\n",
       "  us_theater_release_date  ... actors writers producers runtime season_no2  \\\n",
       "0              2012-12-17  ...   None    None      None    None       None   \n",
       "1              2012-12-17  ...   None    None      None    None       None   \n",
       "2              2012-12-17  ...   None    None      None    None       None   \n",
       "\n",
       "                           episode_name episode_portal_item_id episode_no  \\\n",
       "0     Band of Brothers, Pt. 1: Currahee              583006787          1   \n",
       "1  Band of Brothers, Pt. 2: Day of Days              583007265          2   \n",
       "2     Band of Brothers, Pt. 3: Carentan              583007737          3   \n",
       "\n",
       "  platform va_count  \n",
       "0   iTunes        1  \n",
       "1   iTunes        1  \n",
       "2   iTunes        1  \n",
       "\n",
       "[3 rows x 21 columns]"
      ]
     },
     "execution_count": 6,
     "metadata": {},
     "output_type": "execute_result"
    }
   ],
   "source": [
    "df1.head(3)"
   ]
  },
  {
   "cell_type": "code",
   "execution_count": 7,
   "id": "ba34bb05",
   "metadata": {},
   "outputs": [
    {
     "data": {
      "text/html": [
       "<div>\n",
       "<style scoped>\n",
       "    .dataframe tbody tr th:only-of-type {\n",
       "        vertical-align: middle;\n",
       "    }\n",
       "\n",
       "    .dataframe tbody tr th {\n",
       "        vertical-align: top;\n",
       "    }\n",
       "\n",
       "    .dataframe thead th {\n",
       "        text-align: right;\n",
       "    }\n",
       "</style>\n",
       "<table border=\"1\" class=\"dataframe\">\n",
       "  <thead>\n",
       "    <tr style=\"text-align: right;\">\n",
       "      <th></th>\n",
       "      <th>vonly_asset_id</th>\n",
       "      <th>season_name</th>\n",
       "      <th>season_portal_item_id</th>\n",
       "      <th>season_no</th>\n",
       "      <th>description</th>\n",
       "      <th>distributed_by</th>\n",
       "      <th>distributed_by_parent</th>\n",
       "      <th>produced_by</th>\n",
       "      <th>produced_by_parent</th>\n",
       "      <th>us_theater_release_date</th>\n",
       "      <th>...</th>\n",
       "      <th>actors</th>\n",
       "      <th>writers</th>\n",
       "      <th>producers</th>\n",
       "      <th>runtime</th>\n",
       "      <th>season_no2</th>\n",
       "      <th>episode_name</th>\n",
       "      <th>episode_portal_item_id</th>\n",
       "      <th>episode_no</th>\n",
       "      <th>platform</th>\n",
       "      <th>va_count</th>\n",
       "    </tr>\n",
       "  </thead>\n",
       "  <tbody>\n",
       "    <tr>\n",
       "      <th>0</th>\n",
       "      <td>40f43d4d-206a-4430-8232-a7ea89b7fca0</td>\n",
       "      <td>_DUPE_Big History</td>\n",
       "      <td>B086JKPGKP</td>\n",
       "      <td>1</td>\n",
       "      <td>Change the way you look at the past by answeri...</td>\n",
       "      <td>History</td>\n",
       "      <td>Other</td>\n",
       "      <td>History</td>\n",
       "      <td>Other</td>\n",
       "      <td>2013-11-01</td>\n",
       "      <td>...</td>\n",
       "      <td>None</td>\n",
       "      <td>None</td>\n",
       "      <td>None</td>\n",
       "      <td>None</td>\n",
       "      <td>None</td>\n",
       "      <td>Horse Power Revolution</td>\n",
       "      <td>B086J6S1WW</td>\n",
       "      <td>8</td>\n",
       "      <td>Amazon Prime Video</td>\n",
       "      <td>3</td>\n",
       "    </tr>\n",
       "    <tr>\n",
       "      <th>1</th>\n",
       "      <td>40f43d4d-206a-4430-8232-a7ea89b7fca0</td>\n",
       "      <td>_DUPE_Big History</td>\n",
       "      <td>B086JKPGKP</td>\n",
       "      <td>1</td>\n",
       "      <td>Change the way you look at the past by answeri...</td>\n",
       "      <td>History</td>\n",
       "      <td>Other</td>\n",
       "      <td>History</td>\n",
       "      <td>Other</td>\n",
       "      <td>2013-11-01</td>\n",
       "      <td>...</td>\n",
       "      <td>None</td>\n",
       "      <td>None</td>\n",
       "      <td>None</td>\n",
       "      <td>None</td>\n",
       "      <td>None</td>\n",
       "      <td>The Superpower of Salt</td>\n",
       "      <td>B086J6ZQY4</td>\n",
       "      <td>16</td>\n",
       "      <td>Amazon Prime Video</td>\n",
       "      <td>3</td>\n",
       "    </tr>\n",
       "    <tr>\n",
       "      <th>2</th>\n",
       "      <td>40f43d4d-206a-4430-8232-a7ea89b7fca0</td>\n",
       "      <td>_DUPE_Big History</td>\n",
       "      <td>B086JKPGKP</td>\n",
       "      <td>1</td>\n",
       "      <td>Change the way you look at the past by answeri...</td>\n",
       "      <td>History</td>\n",
       "      <td>Other</td>\n",
       "      <td>History</td>\n",
       "      <td>Other</td>\n",
       "      <td>2013-11-01</td>\n",
       "      <td>...</td>\n",
       "      <td>None</td>\n",
       "      <td>None</td>\n",
       "      <td>None</td>\n",
       "      <td>None</td>\n",
       "      <td>None</td>\n",
       "      <td>Defeating Gravity</td>\n",
       "      <td>B086JKTJ4F</td>\n",
       "      <td>5</td>\n",
       "      <td>Amazon Prime Video</td>\n",
       "      <td>3</td>\n",
       "    </tr>\n",
       "    <tr>\n",
       "      <th>3</th>\n",
       "      <td>40f43d4d-206a-4430-8232-a7ea89b7fca0</td>\n",
       "      <td>_DUPE_Big History</td>\n",
       "      <td>B086JKPGKP</td>\n",
       "      <td>1</td>\n",
       "      <td>Change the way you look at the past by answeri...</td>\n",
       "      <td>History</td>\n",
       "      <td>Other</td>\n",
       "      <td>History</td>\n",
       "      <td>Other</td>\n",
       "      <td>2013-11-01</td>\n",
       "      <td>...</td>\n",
       "      <td>None</td>\n",
       "      <td>None</td>\n",
       "      <td>None</td>\n",
       "      <td>None</td>\n",
       "      <td>None</td>\n",
       "      <td>H2O</td>\n",
       "      <td>B086JL7Q8J</td>\n",
       "      <td>7</td>\n",
       "      <td>Amazon Prime Video</td>\n",
       "      <td>3</td>\n",
       "    </tr>\n",
       "    <tr>\n",
       "      <th>4</th>\n",
       "      <td>40f43d4d-206a-4430-8232-a7ea89b7fca0</td>\n",
       "      <td>_DUPE_Big History</td>\n",
       "      <td>B086JKPGKP</td>\n",
       "      <td>1</td>\n",
       "      <td>Change the way you look at the past by answeri...</td>\n",
       "      <td>History</td>\n",
       "      <td>Other</td>\n",
       "      <td>History</td>\n",
       "      <td>Other</td>\n",
       "      <td>2013-11-01</td>\n",
       "      <td>...</td>\n",
       "      <td>None</td>\n",
       "      <td>None</td>\n",
       "      <td>None</td>\n",
       "      <td>None</td>\n",
       "      <td>None</td>\n",
       "      <td>The Sun</td>\n",
       "      <td>B086JL8KC2</td>\n",
       "      <td>15</td>\n",
       "      <td>Amazon Prime Video</td>\n",
       "      <td>3</td>\n",
       "    </tr>\n",
       "    <tr>\n",
       "      <th>5</th>\n",
       "      <td>40f43d4d-206a-4430-8232-a7ea89b7fca0</td>\n",
       "      <td>_DUPE_Big History</td>\n",
       "      <td>B086JKPGKP</td>\n",
       "      <td>1</td>\n",
       "      <td>Change the way you look at the past by answeri...</td>\n",
       "      <td>History</td>\n",
       "      <td>Other</td>\n",
       "      <td>History</td>\n",
       "      <td>Other</td>\n",
       "      <td>2013-11-01</td>\n",
       "      <td>...</td>\n",
       "      <td>None</td>\n",
       "      <td>None</td>\n",
       "      <td>None</td>\n",
       "      <td>None</td>\n",
       "      <td>None</td>\n",
       "      <td>The Big History Of Everything</td>\n",
       "      <td>B086JLB2TG</td>\n",
       "      <td>14</td>\n",
       "      <td>Amazon Prime Video</td>\n",
       "      <td>3</td>\n",
       "    </tr>\n",
       "  </tbody>\n",
       "</table>\n",
       "<p>6 rows × 21 columns</p>\n",
       "</div>"
      ],
      "text/plain": [
       "                         vonly_asset_id        season_name  \\\n",
       "0  40f43d4d-206a-4430-8232-a7ea89b7fca0  _DUPE_Big History   \n",
       "1  40f43d4d-206a-4430-8232-a7ea89b7fca0  _DUPE_Big History   \n",
       "2  40f43d4d-206a-4430-8232-a7ea89b7fca0  _DUPE_Big History   \n",
       "3  40f43d4d-206a-4430-8232-a7ea89b7fca0  _DUPE_Big History   \n",
       "4  40f43d4d-206a-4430-8232-a7ea89b7fca0  _DUPE_Big History   \n",
       "5  40f43d4d-206a-4430-8232-a7ea89b7fca0  _DUPE_Big History   \n",
       "\n",
       "  season_portal_item_id season_no  \\\n",
       "0            B086JKPGKP         1   \n",
       "1            B086JKPGKP         1   \n",
       "2            B086JKPGKP         1   \n",
       "3            B086JKPGKP         1   \n",
       "4            B086JKPGKP         1   \n",
       "5            B086JKPGKP         1   \n",
       "\n",
       "                                         description distributed_by  \\\n",
       "0  Change the way you look at the past by answeri...        History   \n",
       "1  Change the way you look at the past by answeri...        History   \n",
       "2  Change the way you look at the past by answeri...        History   \n",
       "3  Change the way you look at the past by answeri...        History   \n",
       "4  Change the way you look at the past by answeri...        History   \n",
       "5  Change the way you look at the past by answeri...        History   \n",
       "\n",
       "  distributed_by_parent produced_by produced_by_parent  \\\n",
       "0                 Other     History              Other   \n",
       "1                 Other     History              Other   \n",
       "2                 Other     History              Other   \n",
       "3                 Other     History              Other   \n",
       "4                 Other     History              Other   \n",
       "5                 Other     History              Other   \n",
       "\n",
       "  us_theater_release_date  ... actors writers producers runtime season_no2  \\\n",
       "0              2013-11-01  ...   None    None      None    None       None   \n",
       "1              2013-11-01  ...   None    None      None    None       None   \n",
       "2              2013-11-01  ...   None    None      None    None       None   \n",
       "3              2013-11-01  ...   None    None      None    None       None   \n",
       "4              2013-11-01  ...   None    None      None    None       None   \n",
       "5              2013-11-01  ...   None    None      None    None       None   \n",
       "\n",
       "                    episode_name episode_portal_item_id episode_no  \\\n",
       "0         Horse Power Revolution             B086J6S1WW          8   \n",
       "1         The Superpower of Salt             B086J6ZQY4         16   \n",
       "2              Defeating Gravity             B086JKTJ4F          5   \n",
       "3                            H2O             B086JL7Q8J          7   \n",
       "4                        The Sun             B086JL8KC2         15   \n",
       "5  The Big History Of Everything             B086JLB2TG         14   \n",
       "\n",
       "             platform va_count  \n",
       "0  Amazon Prime Video        3  \n",
       "1  Amazon Prime Video        3  \n",
       "2  Amazon Prime Video        3  \n",
       "3  Amazon Prime Video        3  \n",
       "4  Amazon Prime Video        3  \n",
       "5  Amazon Prime Video        3  \n",
       "\n",
       "[6 rows x 21 columns]"
      ]
     },
     "execution_count": 7,
     "metadata": {},
     "output_type": "execute_result"
    }
   ],
   "source": [
    "df2.head(6)"
   ]
  },
  {
   "cell_type": "markdown",
   "id": "753b4000",
   "metadata": {},
   "source": [
    "# Two query Comparison"
   ]
  },
  {
   "cell_type": "code",
   "execution_count": 8,
   "id": "11d8a581",
   "metadata": {},
   "outputs": [
    {
     "ename": "KeyError",
     "evalue": "'title'",
     "output_type": "error",
     "traceback": [
      "\u001b[1;31m---------------------------------------------------------------------------\u001b[0m",
      "\u001b[1;31mKeyError\u001b[0m                                  Traceback (most recent call last)",
      "File \u001b[1;32mC:\\ProgramData\\anaconda3\\Lib\\site-packages\\pandas\\core\\indexes\\base.py:3653\u001b[0m, in \u001b[0;36mIndex.get_loc\u001b[1;34m(self, key)\u001b[0m\n\u001b[0;32m   3652\u001b[0m \u001b[38;5;28;01mtry\u001b[39;00m:\n\u001b[1;32m-> 3653\u001b[0m     \u001b[38;5;28;01mreturn\u001b[39;00m \u001b[38;5;28mself\u001b[39m\u001b[38;5;241m.\u001b[39m_engine\u001b[38;5;241m.\u001b[39mget_loc(casted_key)\n\u001b[0;32m   3654\u001b[0m \u001b[38;5;28;01mexcept\u001b[39;00m \u001b[38;5;167;01mKeyError\u001b[39;00m \u001b[38;5;28;01mas\u001b[39;00m err:\n",
      "File \u001b[1;32mC:\\ProgramData\\anaconda3\\Lib\\site-packages\\pandas\\_libs\\index.pyx:147\u001b[0m, in \u001b[0;36mpandas._libs.index.IndexEngine.get_loc\u001b[1;34m()\u001b[0m\n",
      "File \u001b[1;32mC:\\ProgramData\\anaconda3\\Lib\\site-packages\\pandas\\_libs\\index.pyx:176\u001b[0m, in \u001b[0;36mpandas._libs.index.IndexEngine.get_loc\u001b[1;34m()\u001b[0m\n",
      "File \u001b[1;32mpandas\\_libs\\hashtable_class_helper.pxi:7080\u001b[0m, in \u001b[0;36mpandas._libs.hashtable.PyObjectHashTable.get_item\u001b[1;34m()\u001b[0m\n",
      "File \u001b[1;32mpandas\\_libs\\hashtable_class_helper.pxi:7088\u001b[0m, in \u001b[0;36mpandas._libs.hashtable.PyObjectHashTable.get_item\u001b[1;34m()\u001b[0m\n",
      "\u001b[1;31mKeyError\u001b[0m: 'title'",
      "\nThe above exception was the direct cause of the following exception:\n",
      "\u001b[1;31mKeyError\u001b[0m                                  Traceback (most recent call last)",
      "Cell \u001b[1;32mIn[8], line 14\u001b[0m\n\u001b[0;32m      8\u001b[0m mapped \u001b[38;5;241m=\u001b[39m \u001b[38;5;241m0\u001b[39m\n\u001b[0;32m      9\u001b[0m unmapped \u001b[38;5;241m=\u001b[39m \u001b[38;5;241m0\u001b[39m\n\u001b[0;32m     11\u001b[0m matching_points \u001b[38;5;241m=\u001b[39m {\n\u001b[0;32m     12\u001b[0m     \u001b[38;5;124m'\u001b[39m\u001b[38;5;124mid\u001b[39m\u001b[38;5;124m'\u001b[39m: id_,\n\u001b[0;32m     13\u001b[0m     \u001b[38;5;124m'\u001b[39m\u001b[38;5;124mtitle\u001b[39m\u001b[38;5;124m'\u001b[39m: \u001b[38;5;241m0\u001b[39m,\n\u001b[1;32m---> 14\u001b[0m     \u001b[38;5;124m'\u001b[39m\u001b[38;5;124mtitle_name\u001b[39m\u001b[38;5;124m'\u001b[39m: row1[\u001b[38;5;124m'\u001b[39m\u001b[38;5;124mtitle\u001b[39m\u001b[38;5;124m'\u001b[39m],\n\u001b[0;32m     15\u001b[0m     \u001b[38;5;124m'\u001b[39m\u001b[38;5;124mtitle_name_1\u001b[39m\u001b[38;5;124m'\u001b[39m: \u001b[38;5;124m'\u001b[39m\u001b[38;5;124m'\u001b[39m,\n\u001b[0;32m     16\u001b[0m     \u001b[38;5;124m'\u001b[39m\u001b[38;5;124mdirector\u001b[39m\u001b[38;5;124m'\u001b[39m: \u001b[38;5;241m0\u001b[39m,\n\u001b[0;32m     17\u001b[0m     \u001b[38;5;124m'\u001b[39m\u001b[38;5;124mdirector_name\u001b[39m\u001b[38;5;124m'\u001b[39m: row1[\u001b[38;5;124m'\u001b[39m\u001b[38;5;124mdirector\u001b[39m\u001b[38;5;124m'\u001b[39m],\n\u001b[0;32m     18\u001b[0m     \u001b[38;5;124m'\u001b[39m\u001b[38;5;124mdirector_name_1\u001b[39m\u001b[38;5;124m'\u001b[39m:\u001b[38;5;124m'\u001b[39m\u001b[38;5;124m'\u001b[39m ,\n\u001b[0;32m     19\u001b[0m     \u001b[38;5;124m'\u001b[39m\u001b[38;5;124mproducers\u001b[39m\u001b[38;5;124m'\u001b[39m: \u001b[38;5;241m0\u001b[39m,\n\u001b[0;32m     20\u001b[0m     \u001b[38;5;124m'\u001b[39m\u001b[38;5;124mproducer_name\u001b[39m\u001b[38;5;124m'\u001b[39m: row1[\u001b[38;5;124m'\u001b[39m\u001b[38;5;124mproducers\u001b[39m\u001b[38;5;124m'\u001b[39m],\n\u001b[0;32m     21\u001b[0m     \u001b[38;5;124m'\u001b[39m\u001b[38;5;124mproducer_name_1\u001b[39m\u001b[38;5;124m'\u001b[39m:\u001b[38;5;124m'\u001b[39m\u001b[38;5;124m'\u001b[39m ,\n\u001b[0;32m     22\u001b[0m     \u001b[38;5;124m'\u001b[39m\u001b[38;5;124mportal_item_id\u001b[39m\u001b[38;5;124m'\u001b[39m: \u001b[38;5;241m0\u001b[39m,\n\u001b[0;32m     23\u001b[0m     \u001b[38;5;124m'\u001b[39m\u001b[38;5;124mportal_item_id_\u001b[39m\u001b[38;5;124m'\u001b[39m: row1[\u001b[38;5;124m'\u001b[39m\u001b[38;5;124mdes_portal_id\u001b[39m\u001b[38;5;124m'\u001b[39m],\n\u001b[0;32m     24\u001b[0m     \u001b[38;5;124m'\u001b[39m\u001b[38;5;124mportal_item_id_1\u001b[39m\u001b[38;5;124m'\u001b[39m:\u001b[38;5;124m'\u001b[39m\u001b[38;5;124m'\u001b[39m ,\n\u001b[0;32m     25\u001b[0m     \u001b[38;5;124m'\u001b[39m\u001b[38;5;124mwriters\u001b[39m\u001b[38;5;124m'\u001b[39m: \u001b[38;5;241m0\u001b[39m,\n\u001b[0;32m     26\u001b[0m     \u001b[38;5;124m'\u001b[39m\u001b[38;5;124mwriter_name\u001b[39m\u001b[38;5;124m'\u001b[39m: row1[\u001b[38;5;124m'\u001b[39m\u001b[38;5;124mwriters\u001b[39m\u001b[38;5;124m'\u001b[39m],\n\u001b[0;32m     27\u001b[0m     \u001b[38;5;124m'\u001b[39m\u001b[38;5;124mwriter_name_1\u001b[39m\u001b[38;5;124m'\u001b[39m:\u001b[38;5;124m'\u001b[39m\u001b[38;5;124m'\u001b[39m ,\n\u001b[0;32m     28\u001b[0m     \u001b[38;5;124m'\u001b[39m\u001b[38;5;124mruntime\u001b[39m\u001b[38;5;124m'\u001b[39m: \u001b[38;5;241m0\u001b[39m,\n\u001b[0;32m     29\u001b[0m     \u001b[38;5;124m'\u001b[39m\u001b[38;5;124mruntime_\u001b[39m\u001b[38;5;124m'\u001b[39m: row1[\u001b[38;5;124m'\u001b[39m\u001b[38;5;124mruntime\u001b[39m\u001b[38;5;124m'\u001b[39m],\n\u001b[0;32m     30\u001b[0m     \u001b[38;5;124m'\u001b[39m\u001b[38;5;124mruntime_1\u001b[39m\u001b[38;5;124m'\u001b[39m: \u001b[38;5;124m'\u001b[39m\u001b[38;5;124m'\u001b[39m,\n\u001b[0;32m     31\u001b[0m     \u001b[38;5;124m'\u001b[39m\u001b[38;5;124mcount\u001b[39m\u001b[38;5;124m'\u001b[39m: count,\n\u001b[0;32m     32\u001b[0m     \u001b[38;5;124m'\u001b[39m\u001b[38;5;124mmapped\u001b[39m\u001b[38;5;124m'\u001b[39m: mapped,\n\u001b[0;32m     33\u001b[0m     \u001b[38;5;124m'\u001b[39m\u001b[38;5;124munmapped\u001b[39m\u001b[38;5;124m'\u001b[39m: unmapped\n\u001b[0;32m     34\u001b[0m }\n\u001b[0;32m     36\u001b[0m \u001b[38;5;28;01mfor\u001b[39;00m _, row2 \u001b[38;5;129;01min\u001b[39;00m df2\u001b[38;5;241m.\u001b[39miterrows():\n\u001b[0;32m     38\u001b[0m     \u001b[38;5;28;01mif\u001b[39;00m row1[\u001b[38;5;124m'\u001b[39m\u001b[38;5;124mdes_num_epi\u001b[39m\u001b[38;5;124m'\u001b[39m] \u001b[38;5;241m==\u001b[39m row2[\u001b[38;5;124m'\u001b[39m\u001b[38;5;124mdes_num_epi\u001b[39m\u001b[38;5;124m'\u001b[39m]:\n",
      "File \u001b[1;32mC:\\ProgramData\\anaconda3\\Lib\\site-packages\\pandas\\core\\series.py:1007\u001b[0m, in \u001b[0;36mSeries.__getitem__\u001b[1;34m(self, key)\u001b[0m\n\u001b[0;32m   1004\u001b[0m     \u001b[38;5;28;01mreturn\u001b[39;00m \u001b[38;5;28mself\u001b[39m\u001b[38;5;241m.\u001b[39m_values[key]\n\u001b[0;32m   1006\u001b[0m \u001b[38;5;28;01melif\u001b[39;00m key_is_scalar:\n\u001b[1;32m-> 1007\u001b[0m     \u001b[38;5;28;01mreturn\u001b[39;00m \u001b[38;5;28mself\u001b[39m\u001b[38;5;241m.\u001b[39m_get_value(key)\n\u001b[0;32m   1009\u001b[0m \u001b[38;5;28;01mif\u001b[39;00m is_hashable(key):\n\u001b[0;32m   1010\u001b[0m     \u001b[38;5;66;03m# Otherwise index.get_value will raise InvalidIndexError\u001b[39;00m\n\u001b[0;32m   1011\u001b[0m     \u001b[38;5;28;01mtry\u001b[39;00m:\n\u001b[0;32m   1012\u001b[0m         \u001b[38;5;66;03m# For labels that don't resolve as scalars like tuples and frozensets\u001b[39;00m\n",
      "File \u001b[1;32mC:\\ProgramData\\anaconda3\\Lib\\site-packages\\pandas\\core\\series.py:1116\u001b[0m, in \u001b[0;36mSeries._get_value\u001b[1;34m(self, label, takeable)\u001b[0m\n\u001b[0;32m   1113\u001b[0m     \u001b[38;5;28;01mreturn\u001b[39;00m \u001b[38;5;28mself\u001b[39m\u001b[38;5;241m.\u001b[39m_values[label]\n\u001b[0;32m   1115\u001b[0m \u001b[38;5;66;03m# Similar to Index.get_value, but we do not fall back to positional\u001b[39;00m\n\u001b[1;32m-> 1116\u001b[0m loc \u001b[38;5;241m=\u001b[39m \u001b[38;5;28mself\u001b[39m\u001b[38;5;241m.\u001b[39mindex\u001b[38;5;241m.\u001b[39mget_loc(label)\n\u001b[0;32m   1118\u001b[0m \u001b[38;5;28;01mif\u001b[39;00m is_integer(loc):\n\u001b[0;32m   1119\u001b[0m     \u001b[38;5;28;01mreturn\u001b[39;00m \u001b[38;5;28mself\u001b[39m\u001b[38;5;241m.\u001b[39m_values[loc]\n",
      "File \u001b[1;32mC:\\ProgramData\\anaconda3\\Lib\\site-packages\\pandas\\core\\indexes\\base.py:3655\u001b[0m, in \u001b[0;36mIndex.get_loc\u001b[1;34m(self, key)\u001b[0m\n\u001b[0;32m   3653\u001b[0m     \u001b[38;5;28;01mreturn\u001b[39;00m \u001b[38;5;28mself\u001b[39m\u001b[38;5;241m.\u001b[39m_engine\u001b[38;5;241m.\u001b[39mget_loc(casted_key)\n\u001b[0;32m   3654\u001b[0m \u001b[38;5;28;01mexcept\u001b[39;00m \u001b[38;5;167;01mKeyError\u001b[39;00m \u001b[38;5;28;01mas\u001b[39;00m err:\n\u001b[1;32m-> 3655\u001b[0m     \u001b[38;5;28;01mraise\u001b[39;00m \u001b[38;5;167;01mKeyError\u001b[39;00m(key) \u001b[38;5;28;01mfrom\u001b[39;00m \u001b[38;5;21;01merr\u001b[39;00m\n\u001b[0;32m   3656\u001b[0m \u001b[38;5;28;01mexcept\u001b[39;00m \u001b[38;5;167;01mTypeError\u001b[39;00m:\n\u001b[0;32m   3657\u001b[0m     \u001b[38;5;66;03m# If we have a listlike key, _check_indexing_error will raise\u001b[39;00m\n\u001b[0;32m   3658\u001b[0m     \u001b[38;5;66;03m#  InvalidIndexError. Otherwise we fall through and re-raise\u001b[39;00m\n\u001b[0;32m   3659\u001b[0m     \u001b[38;5;66;03m#  the TypeError.\u001b[39;00m\n\u001b[0;32m   3660\u001b[0m     \u001b[38;5;28mself\u001b[39m\u001b[38;5;241m.\u001b[39m_check_indexing_error(key)\n",
      "\u001b[1;31mKeyError\u001b[0m: 'title'"
     ]
    }
   ],
   "source": [
    "mapping_list = []\n",
    "id_ = 0\n",
    "\n",
    "for _, row1 in df1.iterrows():\n",
    "    id_ += 1\n",
    "    \n",
    "    count = 0\n",
    "    mapped = 0\n",
    "    unmapped = 0\n",
    "    \n",
    "    matching_points = {\n",
    "        'id': id_,\n",
    "        'title': 0,\n",
    "        'title_name': row1['season_name'],\n",
    "        'title_name_1': '',\n",
    "        'director': 0,\n",
    "        'director_name': row1['director'],\n",
    "        'director_name_1':'' ,\n",
    "        'producers': 0,\n",
    "        'producer_name': row1['producers'],\n",
    "        'producer_name_1':'' ,\n",
    "        'portal_item_id': 0,\n",
    "        'portal_item_id_': row1['des_portal_id'],\n",
    "        'portal_item_id_1':'' ,\n",
    "        'writers': 0,\n",
    "        'writer_name': row1['writers'],\n",
    "        'writer_name_1':'' ,\n",
    "        'runtime': 0,\n",
    "        'runtime_': row1['runtime'],\n",
    "        'runtime_1': '',\n",
    "        'count': count,\n",
    "        'mapped': mapped,\n",
    "        'unmapped': unmapped\n",
    "    }\n",
    "\n",
    "    for _, row2 in df2.iterrows():\n",
    "        \n",
    "        if row1['des_num_epi'] == row2['des_num_epi']:\n",
    "            if not pd.isnull(row1['season_name']) and not pd.isnull(row2['season_name']) and row1['season_name'] == row2['season_name']:\n",
    "                matching_points['title_name'] = 1\n",
    "            elif row1['season_name'] != row2['season_name']:\n",
    "                matching_points['title_name_1'] = 0\n",
    "        \n",
    "            matching_points['title_name_1'] = row2['title']\n",
    "\n",
    "            if not pd.isnull(row1['director']) and not pd.isnull(row2['director']) and row1['director'] == row2['director']:\n",
    "                matching_points['director'] = 1\n",
    "            matching_points['director_name_1'] = row2['director']\n",
    "\n",
    "            if not pd.isnull(row1['producers']) and not pd.isnull(row2['producers']) and row1['producers'] == row2['producers']:\n",
    "                matching_points['producers'] = 1\n",
    "            matching_points['producer_name_1'] = row2['producers']\n",
    "\n",
    "            if not pd.isnull(row1['des_portal_id']) and not pd.isnull(row2['des_portal_id']) and row1['des_portal_id'] == row2['des_portal_id']:\n",
    "                matching_points['portal_item_id'] = 1\n",
    "            elif row1['des_portal_id'] != row2['des_portal_id']:\n",
    "                matching_points['portal_item_id'] = 0\n",
    "            matching_points['portal_item_id_1'] = row2['des_portal_id']\n",
    "\n",
    "            if not pd.isnull(row1['writers']) and not pd.isnull(row2['writers']) and row1['writers'] == row2['writers']:\n",
    "                matching_points['writers'] = 1\n",
    "            matching_points['writer_name_1'] = row2['writers']\n",
    "\n",
    "            if not pd.isnull(row1['runtime']) and not pd.isnull(row2['runtime']) and row1['runtime'] == row2['runtime']:\n",
    "                matching_points['runtime'] = 1\n",
    "            matching_points['runtime_1'] = row2['runtime']\n",
    "\n",
    "            count = matching_points['title'] + matching_points['director'] + matching_points['producers'] + matching_points['portal_item_id'] + matching_points['writers'] + matching_points['runtime']\n",
    "        \n",
    "\n",
    "    mapped = 1 if count >= 3 else 0\n",
    "    unmapped = 1 if count < 3 else 0\n",
    "\n",
    "    matching_points['count'] = count\n",
    "    matching_points['mapped'] = mapped\n",
    "    matching_points['unmapped'] = unmapped\n",
    "    \n",
    "    mapping_list.append(matching_points)\n",
    "\n",
    "mapping_list"
   ]
  },
  {
   "cell_type": "code",
   "execution_count": 19,
   "id": "9440e283",
   "metadata": {},
   "outputs": [],
   "source": [
    "df = pd.DataFrame(mapping_list)"
   ]
  },
  {
   "cell_type": "code",
   "execution_count": 20,
   "id": "11283c58",
   "metadata": {
    "scrolled": true
   },
   "outputs": [],
   "source": [
    "df.to_csv(\"Mapping.csv\")"
   ]
  },
  {
   "cell_type": "markdown",
   "id": "93c8659b",
   "metadata": {},
   "source": [
    "# 1"
   ]
  },
  {
   "cell_type": "markdown",
   "id": "dcb14461",
   "metadata": {},
   "source": [
    "# Sort Number"
   ]
  },
  {
   "cell_type": "markdown",
   "id": "de82d19c",
   "metadata": {},
   "source": [
    "## With Inbuilt"
   ]
  },
  {
   "cell_type": "code",
   "execution_count": 26,
   "id": "04b5f2d5",
   "metadata": {},
   "outputs": [
    {
     "name": "stdout",
     "output_type": "stream",
     "text": [
      "[0, 1, 2, 3, 10, 45]\n"
     ]
    }
   ],
   "source": [
    "data = [1,10,2,45,0,3]\n",
    "data.sort()\n",
    "print(data)"
   ]
  },
  {
   "cell_type": "markdown",
   "id": "e0432f0f",
   "metadata": {},
   "source": [
    "## Without Inbuilt"
   ]
  },
  {
   "cell_type": "code",
   "execution_count": 42,
   "id": "629f62a8",
   "metadata": {},
   "outputs": [
    {
     "name": "stdout",
     "output_type": "stream",
     "text": [
      "[0, 1, 2, 3, 10, 45]\n"
     ]
    }
   ],
   "source": [
    "data = [1,10,2,45,0,3]\n",
    "for i in range(0,len(data)):\n",
    "    for j in range(i+1,len(data)):\n",
    "        if data[i] > data[j]:\n",
    "            data[i],data[j] = data[j],data[i]  \n",
    "print(data)"
   ]
  },
  {
   "cell_type": "markdown",
   "id": "302694f1",
   "metadata": {},
   "source": [
    "# 2"
   ]
  },
  {
   "cell_type": "markdown",
   "id": "68030c95",
   "metadata": {},
   "source": [
    "# Armstrong"
   ]
  },
  {
   "cell_type": "code",
   "execution_count": 41,
   "id": "4fff1010",
   "metadata": {},
   "outputs": [
    {
     "name": "stdout",
     "output_type": "stream",
     "text": [
      "enter:153\n",
      "Yes\n"
     ]
    }
   ],
   "source": [
    "n = int(input(\"enter:\"))\n",
    "res = len(str(n))\n",
    "sum_ = 0\n",
    "temp = n\n",
    "while n > 0:\n",
    "    ans = n % 10\n",
    "    sum_ = sum_ + ans**res\n",
    "    n //= 10\n",
    "if temp == sum_:\n",
    "    print(\"Yes\")\n",
    "else:\n",
    "    print(\"No\")"
   ]
  },
  {
   "cell_type": "markdown",
   "id": "59ebf5e7",
   "metadata": {},
   "source": [
    "# 3"
   ]
  },
  {
   "cell_type": "markdown",
   "id": "6e2241cf",
   "metadata": {},
   "source": [
    "# Automorphic"
   ]
  },
  {
   "cell_type": "code",
   "execution_count": 1,
   "id": "2211f501",
   "metadata": {},
   "outputs": [
    {
     "name": "stdout",
     "output_type": "stream",
     "text": [
      "Enter a number:6\n",
      "It's an Automorphic Number\n"
     ]
    }
   ],
   "source": [
    "number = int(input(\"Enter a number:\"))\n",
    "square = pow(number, 2)\n",
    "mod = pow(10, len(str(number)))\n",
    "\n",
    "if square % mod == number:\n",
    "    print(\"It's an Automorphic Number\")\n",
    "else:\n",
    "    print(\"It's not an Automorphic Number\")"
   ]
  },
  {
   "cell_type": "markdown",
   "id": "970520f7",
   "metadata": {},
   "source": [
    "# 4"
   ]
  },
  {
   "cell_type": "markdown",
   "id": "9286d0e9",
   "metadata": {},
   "source": [
    "# Int to Roman"
   ]
  },
  {
   "cell_type": "markdown",
   "id": "6014677f",
   "metadata": {},
   "source": [
    "# Without Inbuilt"
   ]
  },
  {
   "cell_type": "code",
   "execution_count": 4,
   "id": "b5544fb0",
   "metadata": {},
   "outputs": [
    {
     "name": "stdout",
     "output_type": "stream",
     "text": [
      "Enter a value: 5\n",
      "V\n"
     ]
    }
   ],
   "source": [
    "num = int(input(\"Enter a value: \")) \n",
    "symbols = [\n",
    "    (1000, 'M'),\n",
    "    (900, 'CM'),\n",
    "    (500, 'D'),\n",
    "    (400, 'CD'),\n",
    "    (100, 'C'),\n",
    "    (90, 'XC'),\n",
    "    (50, 'L'),\n",
    "    (40, 'XL'),\n",
    "    (10, 'X'),\n",
    "    (9, 'IX'),\n",
    "    (5, 'V'),\n",
    "    (4, 'IV'),\n",
    "    (1, 'I')\n",
    "]\n",
    "\n",
    "roman = ''\n",
    "for value, symbol in symbols:\n",
    "    while num >= value:\n",
    "        roman += symbol\n",
    "        num -= value\n",
    "\n",
    "print(roman)"
   ]
  },
  {
   "cell_type": "markdown",
   "id": "45035154",
   "metadata": {},
   "source": [
    "# With Inbuilt"
   ]
  },
  {
   "cell_type": "code",
   "execution_count": 3,
   "id": "0d731bc2",
   "metadata": {},
   "outputs": [],
   "source": [
    "import roman"
   ]
  },
  {
   "cell_type": "code",
   "execution_count": 5,
   "id": "51ac5a06",
   "metadata": {},
   "outputs": [
    {
     "name": "stdout",
     "output_type": "stream",
     "text": [
      "V\n"
     ]
    }
   ],
   "source": [
    "res = roman.toRoman(5)\n",
    "print(res)"
   ]
  },
  {
   "cell_type": "markdown",
   "id": "b4b058f4",
   "metadata": {},
   "source": [
    "# 5"
   ]
  },
  {
   "cell_type": "markdown",
   "id": "0bb5d9ce",
   "metadata": {},
   "source": [
    "# Roman to INT"
   ]
  },
  {
   "cell_type": "markdown",
   "id": "545ebc3f",
   "metadata": {},
   "source": [
    "##  With Inbuilt"
   ]
  },
  {
   "cell_type": "code",
   "execution_count": 6,
   "id": "2c8b4976",
   "metadata": {},
   "outputs": [],
   "source": [
    "import roman"
   ]
  },
  {
   "cell_type": "code",
   "execution_count": 7,
   "id": "881e305e",
   "metadata": {},
   "outputs": [
    {
     "name": "stdout",
     "output_type": "stream",
     "text": [
      "5\n"
     ]
    }
   ],
   "source": [
    "res = roman.fromRoman('V')\n",
    "print(res)"
   ]
  },
  {
   "cell_type": "markdown",
   "id": "1043523c",
   "metadata": {},
   "source": [
    "# Without inbuilt"
   ]
  },
  {
   "cell_type": "code",
   "execution_count": 36,
   "id": "7291b046",
   "metadata": {},
   "outputs": [
    {
     "name": "stdout",
     "output_type": "stream",
     "text": [
      "Enter a value: 10\n",
      "X\n"
     ]
    }
   ],
   "source": [
    "num = int(input(\"Enter a value: \"))  # Convert input to an integer\n",
    "m = [\"\", \"M\", \"MM\", \"MMM\"]\n",
    "c = [\"\", \"C\", \"CC\", \"CCC\", \"CD\", \"D\",\n",
    "     \"DC\", \"DCC\", \"DCCC\", \"CM \"]\n",
    "x = [\"\", \"X\", \"XX\", \"XXX\", \"XL\", \"L\",\n",
    "     \"LX\", \"LXX\", \"LXXX\", \"XC\"]\n",
    "i = [\"\", \"I\", \"II\", \"III\", \"IV\", \"V\",\n",
    "     \"VI\", \"VII\", \"VIII\", \"IX\"]\n",
    "\n",
    "thousands = m[num // 1000]\n",
    "hundreds = c[(num % 1000) // 100]\n",
    "tens = x[(num % 100) // 10]\n",
    "ones = i[num % 10]\n",
    "\n",
    "ans = (thousands + hundreds +\n",
    "       tens + ones)\n",
    "print(ans)"
   ]
  },
  {
   "cell_type": "markdown",
   "id": "754b8927",
   "metadata": {},
   "source": [
    "# 6"
   ]
  },
  {
   "cell_type": "markdown",
   "id": "3460f81d",
   "metadata": {},
   "source": [
    "# Binary to decimal"
   ]
  },
  {
   "cell_type": "code",
   "execution_count": 8,
   "id": "599b6fa0",
   "metadata": {},
   "outputs": [
    {
     "name": "stdout",
     "output_type": "stream",
     "text": [
      "100\n",
      "4\n"
     ]
    }
   ],
   "source": [
    "# Both\n",
    "n = 4\n",
    "binary = format(n, 'b')\n",
    "print(binary) # Output: '100'\n",
    "binary = '100'\n",
    "decimal = int(binary, 2)\n",
    "print(decimal) # Output: 4"
   ]
  },
  {
   "cell_type": "code",
   "execution_count": 12,
   "id": "46ae00e7",
   "metadata": {},
   "outputs": [
    {
     "name": "stdout",
     "output_type": "stream",
     "text": [
      "Enter a value: 1010\n",
      "10\n"
     ]
    }
   ],
   "source": [
    "n = int(input(\"Enter a value: \"))\n",
    "decimal, i = 0, 0\n",
    "while( n != 0):\n",
    "    dec = n % 10\n",
    "    decimal = decimal + dec * pow(2, i)\n",
    "    n = n//10\n",
    "    i += 1\n",
    "print(decimal)"
   ]
  },
  {
   "cell_type": "markdown",
   "id": "c2c1810c",
   "metadata": {},
   "source": [
    "# Decimal to Binary"
   ]
  },
  {
   "cell_type": "code",
   "execution_count": 13,
   "id": "0c5e338c",
   "metadata": {},
   "outputs": [
    {
     "name": "stdout",
     "output_type": "stream",
     "text": [
      "1010\n"
     ]
    }
   ],
   "source": [
    "decNum = 10\n",
    "print(bin(decNum)[2:])"
   ]
  },
  {
   "cell_type": "code",
   "execution_count": 37,
   "id": "0a83ccb0",
   "metadata": {},
   "outputs": [
    {
     "name": "stdout",
     "output_type": "stream",
     "text": [
      "Enter a value: 10\n",
      "Binary representation: 1010\n"
     ]
    }
   ],
   "source": [
    "n = int(input(\"Enter a value: \"))\n",
    "\n",
    "binary = \"\"  \n",
    "\n",
    "while n > 0:\n",
    "    remainder = n % 2  \n",
    "    binary = str(remainder) + binary \n",
    "    n = n // 2  \n",
    "\n",
    "print(\"Binary representation:\", binary)\n"
   ]
  },
  {
   "cell_type": "code",
   "execution_count": null,
   "id": "6c56c69f",
   "metadata": {},
   "outputs": [],
   "source": []
  }
 ],
 "metadata": {
  "kernelspec": {
   "display_name": "Python 3 (ipykernel)",
   "language": "python",
   "name": "python3"
  },
  "language_info": {
   "codemirror_mode": {
    "name": "ipython",
    "version": 3
   },
   "file_extension": ".py",
   "mimetype": "text/x-python",
   "name": "python",
   "nbconvert_exporter": "python",
   "pygments_lexer": "ipython3",
   "version": "3.11.5"
  }
 },
 "nbformat": 4,
 "nbformat_minor": 5
}
